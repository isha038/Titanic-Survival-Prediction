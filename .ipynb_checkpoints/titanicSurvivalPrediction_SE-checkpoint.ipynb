{
 "cells": [
  {
   "cell_type": "markdown",
   "metadata": {},
   "source": [
    "DSCI 2012: Data Science Lab - Data Wrangling\n",
    "# Lab 5: Before you can Train AI, the Data Must be Beautiful\n",
    "\n",
    "Ultimately, data science tools and resources serve the goal of extracting meaning from the world or for building smart systems. To build smart systems, we must train statistical or machine learning models that can be baked into a digitally operated system like a self-driving car or even an entire business enterprise (like Uber). \n",
    "\n",
    "This lab will help you learn to go through the steps implicit in bringing data from fairly clean place all the way into a dataset that can be used for machine learning. We will even run some rudimentary machine learning code that will build a classification model.\n",
    "\n",
    "The lab makes use of a dataset commonly used for introducing machine learning to students, the passengers of the Titanic, including whether or not each survived. If you make it through this lab, you also will have done all the work (and more) necessary to compete on Kaggle in the first competition they recommend for people new to the platform, the [Titanic Challenge.](https://www.kaggle.com/competitions/titanic)\n",
    "\n",
    "## Importing Libraries\n",
    "\n",
    "First, let's import the libraries needed both for data wrangling, for visualization, and for machine learning."
   ]
  },
  {
   "cell_type": "code",
   "execution_count": null,
   "metadata": {},
   "outputs": [],
   "source": [
    "# Import the necessary libraries for Data Wrangling\n",
    "\n",
    "import pandas as pd\n",
    "import numpy as np\n",
    "\n",
    "# install sklearn if isn't installed already\n",
    "# try to remember that this is a great way to install code in the\n",
    "# future by testing if it is already installed first\n",
    "try:\n",
    "  from sklearn.metrics import mean_absolute_error\n",
    "except:\n",
    "  !conda install sklearn\n",
    "  from sklearn.metrics import mean_absolute_error\n",
    "\n",
    "# Import some libraries for machine learning\n",
    "# Note: even though the AI lab in the MSU data science program will make use of \n",
    "# Keras / Tensor Flow, it will still use SkiKit Learn for many supporting purposes\n",
    "# such as dividing data into training vs. test data, so you're learning something\n",
    "# here that will be useful to you at any level of knowledge you reach\n",
    "\n",
    "from sklearn.model_selection import train_test_split\n",
    "from sklearn.ensemble import RandomForestClassifier\n",
    "from sklearn.tree import DecisionTreeClassifier\n",
    "from sklearn.metrics import accuracy_score\n",
    "\n",
    "# Import some libraries for visualization\n",
    "# Seaborn is really nice, as it works alongside matplotlib, and it is beautiful.\n",
    "# Seaborn documentation is here: https://seaborn.pydata.org/\n",
    "import seaborn as sns\n",
    "import matplotlib.pyplot as plt\n"
   ]
  },
  {
   "cell_type": "markdown",
   "metadata": {},
   "source": [
    "## Exploring the Data"
   ]
  },
  {
   "cell_type": "code",
   "execution_count": null,
   "metadata": {},
   "outputs": [],
   "source": [
    "# load your passenger data\n",
    "# note how you can tell pandas to treat an individual column as a number type\n",
    "# right from the beginning - here we're telling it to treat the 'Age' column\n",
    "# as a number\n",
    "passengers = pd.read_csv(\"titanic.csv\",dtype={'Age': np.float64})\n",
    "\n",
    "# Exercise 1:\n",
    "    \n",
    "# a. Supply the code necessary to view six lines of the passengers dataframe head\n"
   ]
  },
  {
   "cell_type": "code",
   "execution_count": null,
   "metadata": {},
   "outputs": [],
   "source": [
    "# b. Supply the code necessary to view six lines of the passengers dataframe tail\n",
    "\n",
    "# c. What do you notice about the last line? \n",
    "# [put your answer here]"
   ]
  },
  {
   "cell_type": "markdown",
   "metadata": {},
   "source": [
    "Yes, the last line is a problem. We should definitely drop it.\n",
    "\n",
    "An easy way to handle this is to use df.drop() and we can specify two parameters - which row (labels), and which axis (0 = means row, 1 = means column)"
   ]
  },
  {
   "cell_type": "code",
   "execution_count": null,
   "metadata": {},
   "outputs": [],
   "source": [
    "# take this time to look at the documentation for .drop see where things are documented:\n",
    "# https://pandas.pydata.org/docs/reference/api/pandas.DataFrame.drop.html\n",
    "# hint: passengers = passengers.drop(labels=?, axis = ?)\n",
    "# d. Supply the correct label and axis to take care of that last row, then show the tail again\n",
    "\n",
    "# e. How would chat-gpt recommend (chat.openai.com) recommend dropping it?\n",
    "\n",
    "# put your chat-gpt prompt in a comment here:\n",
    "# \n",
    "\n",
    "# put the code it suggested in a comment here:\n",
    "#\n"
   ]
  },
  {
   "cell_type": "markdown",
   "metadata": {},
   "source": [
    "The Features of this Dataset Include:\n",
    "\n",
    "    survival - Survival (0 = No; 1 = Yes)\n",
    "    class - Passenger Class (1 = 1st; 2 = 2nd; 3 = 3rd)\n",
    "    name - Name\n",
    "    sex - Sex\n",
    "    age - Age\n",
    "    sibsp - Number of Siblings/Spouses Aboard\n",
    "    parch - Number of Parents/Children Aboard\n",
    "    ticket - Ticket Number\n",
    "    fare - Passenger Fare\n",
    "    cabin - Cabin\n",
    "    embarked - Port of Embarkation (C = Cherbourg; Q = Queenstown; S = Southampton)\n",
    "    boat - Lifeboat (if survived)\n",
    "    body - Body number (if did not survive and body was recovered)\n",
    "\n",
    "\"Sex\" is an interesting data field/column/property. Think of the movie 'Titanic' and of the patterns of etiquette during danger that might have prevailed in 1912. I wonder what percentage of women vs. men died?"
   ]
  },
  {
   "cell_type": "code",
   "execution_count": null,
   "metadata": {},
   "outputs": [],
   "source": [
    "# Get a list of \"survived\" by limiting to places where sex is \"female\"\n",
    "# non-query way:  women = passengers.loc[passengers.sex == 'female']\n",
    "\n",
    "women = passengers.query(\"sex == 'female'\")\n",
    "\n",
    "# To get the survival rate, divide the sum of survivals (add up all the 1's) \n",
    "# and divide by the number of women\n",
    "\n",
    "rate_women = sum(women['survived'])/len(women['survived'])\n",
    "\n",
    "print(\"% of women who survived:\", rate_women)\n"
   ]
  },
  {
   "cell_type": "markdown",
   "metadata": {},
   "source": [
    "Wow, 73% of women passengers survived. What about the percentage of men? That's your exercise."
   ]
  },
  {
   "cell_type": "code",
   "execution_count": null,
   "metadata": {},
   "outputs": [],
   "source": [
    "# Exercise 2:\n",
    "\n",
    "# a. find a list containing survival info for men\n",
    "\n",
    "\n",
    "# b. print the data type that was returned by the previous operation:\n",
    "\n",
    "\n",
    "# c. calculate the survival rate of men\n",
    "\n",
    "\n",
    "# d. print out the survival rate for men\n",
    "\n",
    "\n",
    "# e. what do you notice about men's vs. women's survival rates?\n",
    "# put your answer here in a comment"
   ]
  },
  {
   "cell_type": "markdown",
   "metadata": {},
   "source": [
    "We're starting to understand this data a little bit.\n",
    "\n",
    "But maybe we should have visualized the data first and may have seen this sex difference right away.\n",
    "\n",
    "## Visualizing the Data\n",
    "\n",
    "Let's use the seaborn \"pair plot\" to look at the relationship between each variable in the dataset and survival.\n",
    "\n",
    "You should take this opportunity to read about the pair plot (https://pythonbasics.org/seaborn-pairplot/) and how it can be used in exploratory analysis.\n",
    "\n",
    "Run the following code and be amazed."
   ]
  },
  {
   "cell_type": "code",
   "execution_count": null,
   "metadata": {},
   "outputs": [],
   "source": [
    "# call the pairplot and shade the values based on survival\n",
    "# note, this code takes a few seconds to run\n",
    "sns.pairplot(data=passengers, hue='survived')\n",
    "plt.show()"
   ]
  },
  {
   "cell_type": "markdown",
   "metadata": {},
   "source": [
    "Take a minute to figure out what this grid means - that each row contains pair plots of each property to every other property."
   ]
  },
  {
   "cell_type": "code",
   "execution_count": null,
   "metadata": {},
   "outputs": [],
   "source": [
    "# Exercise 3\n",
    "\n",
    "# a. Question: Why are there no survivors shown on the \"body\" row?\n",
    "# put answer here in a comment\n",
    "\n",
    "# b. Question: why do you think that the sex column wasn't visualized?\n",
    "# put answer here in a comment\n",
    "\n",
    "# c. Using the documentation of pair plots, show only the plots only for class, age, and fare price.\n"
   ]
  },
  {
   "cell_type": "markdown",
   "metadata": {},
   "source": [
    "## Handling Missing Values\n",
    "\n",
    "Now, let's deal with missing values. First, we'll see what's missing."
   ]
  },
  {
   "cell_type": "code",
   "execution_count": null,
   "metadata": {},
   "outputs": [],
   "source": [
    "# Are there missing values?\n",
    "\n",
    "passengers.isnull().sum()"
   ]
  },
  {
   "cell_type": "markdown",
   "metadata": {},
   "source": [
    "Start with the easiest first. Just two rows are missing the location from which the passenger embarked. Do we really think the place of embarking would make a difference in whether the person lived or died? Are Cherbourg, Queenstown, and Southampton radically different in terms of the strength of swimmers who are born there? Probably not.\n",
    "\n",
    "So, let's just fill in any unknowns with a new \"unknown\" town and be done with it."
   ]
  },
  {
   "cell_type": "code",
   "execution_count": null,
   "metadata": {},
   "outputs": [],
   "source": [
    "# remember .loc[rows,columns]\n",
    "# find the rows where embarked is null, and assign 'U' to the 'embarked' column on those rows:\n",
    "passengers.loc[passengers['embarked'].isnull(), 'embarked'] = 'U'\n",
    "\n",
    "passengers.isnull().sum()"
   ]
  },
  {
   "cell_type": "markdown",
   "metadata": {},
   "source": [
    "Now, let's tackle age and fare. We're missing 263 values and 1 value respectively there. How about we just replace unknown ages with the median age value and unknown fares with the median fare value?"
   ]
  },
  {
   "cell_type": "code",
   "execution_count": null,
   "metadata": {},
   "outputs": [],
   "source": [
    "# Replace missing ages with the median age. Notice that we're using \n",
    "# convenient \"dot notation\" to reference columns\n",
    "passengers.loc[passengers.age.isnull(), 'age'] = passengers.age.median()\n",
    "\n",
    "passengers.isnull().sum()"
   ]
  },
  {
   "cell_type": "code",
   "execution_count": null,
   "metadata": {},
   "outputs": [],
   "source": [
    "# Exercise 4\n",
    "\n",
    "# a. Replace missing fare values with the median fare\n",
    "\n",
    "\n",
    "# b. Show a summary of null fields to see where we stand"
   ]
  },
  {
   "cell_type": "markdown",
   "metadata": {},
   "source": [
    "Now, the \"cabin\" column looks a little freeform. How about we create an Unknown Cabin entry into any blank cabin fields? Maybe the fact that the cabin is \"unknown\" is a good piece of information - maybe these are stowaways or vagabonds?"
   ]
  },
  {
   "cell_type": "code",
   "execution_count": null,
   "metadata": {},
   "outputs": [],
   "source": [
    "# Exercise 5\n",
    "\n",
    "# a. replace the missing cabins with the string \"Unknown\"\n",
    "\n",
    "\n",
    "# b. Show a summary of null fields to see where we stand\n"
   ]
  },
  {
   "cell_type": "markdown",
   "metadata": {},
   "source": [
    "Since \"body\" and \"boat\" essentially only exist if the person's body was tagged (deceased) or if they were saved in a boat (survived), then we don't really need to worry about those columns. They essentially just mean the same thing as the \"survived\" column.\n",
    "\n",
    "\"Destination\" also feels like something that wouldn't matter to survival, so let's not even worry about that feature.\n",
    "\n",
    "## Handling Categorical Data\n",
    "\n",
    "Some features are categorical, though, and we need to make them numeric for machine learning.\n",
    "\n",
    "We've already seen that sex is probably determinative in some cases for survival, so let's convert sex from a categorical variable into two dummy variables (one-hot encoded variables) using the Pandas function [df.get_dummies](https://pandas.pydata.org/docs/reference/api/pandas.get_dummies.html)"
   ]
  },
  {
   "cell_type": "code",
   "execution_count": null,
   "metadata": {},
   "outputs": [],
   "source": [
    "# This code will create dummy variables from a single categorical column\n",
    "passengers = pd.get_dummies(passengers, columns=[\"sex\"], prefix=\"sex\")\n",
    "passengers\n",
    "\n"
   ]
  },
  {
   "cell_type": "code",
   "execution_count": null,
   "metadata": {},
   "outputs": [],
   "source": [
    "# Exercise 5\n",
    "\n",
    "# a. Which columns were added? \n",
    "# put answer in a comment\n",
    "\n",
    "# b. Why were the columns named as they are?\n",
    "# put answer in a comment\n",
    "\n",
    "# c. Create dummy variables for the \"embarked\" and use \"leftFrom\" as the prefix for the name\n",
    "\n",
    "# d. show the resulting data\n"
   ]
  },
  {
   "cell_type": "markdown",
   "metadata": {},
   "source": [
    "## Converting a Number to Boolean or Just an Int\n",
    "\n",
    "Survived still doesn't look like a boolean column. Pandas probably just treated the number like a floating point number instead of a 1/0 yes/no."
   ]
  },
  {
   "cell_type": "code",
   "execution_count": null,
   "metadata": {},
   "outputs": [],
   "source": [
    "# Let's interpret that column as a plain int since Boolean would create true/false and we \n",
    "# like to use numbers for machine learning\n",
    "passengers.survived=passengers.survived.astype(int)\n",
    "\n",
    "passengers"
   ]
  },
  {
   "cell_type": "markdown",
   "metadata": {},
   "source": [
    "## Data are Beautiful, Now Let's Split for Machine Learning\n",
    "\n",
    "Now, it's time for some magic - creating the data we need for machine learning.\n",
    "\n",
    "Please don't worry if there is a lot of new stuff in the next few cells. Just go along for the ride and try to understand each part.\n",
    "\n",
    "We will want to divide our dataset into 1) \"training data\" to build a model, and then 2) \"test data\" that will allow us to test our model on new data that we didn't use to build our model (that would be cheating).\n",
    "\n",
    "Machine Learning naming conventions are to use lower case \"y\" for our data labels that we'll use during training."
   ]
  },
  {
   "cell_type": "code",
   "execution_count": null,
   "metadata": {},
   "outputs": [],
   "source": [
    "# Get our survival training labels\n",
    "y = passengers.survived"
   ]
  },
  {
   "cell_type": "markdown",
   "metadata": {},
   "source": [
    "Now, we can get our data that we want to include for training. These would be the fields that we think might be relevant to predicting whether a passenger survived (y=1) or perished (y=0).\n",
    "\n",
    "Let's start with class, age, and sibsp only.\n",
    "\n",
    "The naming convention for the data we'll be using for training is upper-case X (\"X\")"
   ]
  },
  {
   "cell_type": "code",
   "execution_count": null,
   "metadata": {},
   "outputs": [],
   "source": [
    "# make a list of our features\n",
    "analysis_features = ['pclass','age','sibsp']\n",
    "\n",
    "# grab a data frame that contains our features\n",
    "X = passengers[analysis_features]\n",
    "\n",
    "# let's see what it looks like\n",
    "X"
   ]
  },
  {
   "cell_type": "markdown",
   "metadata": {},
   "source": [
    "### Now, let's split the data into training and test data.\n",
    "\n",
    "Then, let's be sure we create training / test data using \"train_test_split\" - something we imported from skikit learn. The documentation is here: https://scikit-learn.org/stable/modules/generated/sklearn.model_selection.train_test_split.html"
   ]
  },
  {
   "cell_type": "code",
   "execution_count": null,
   "metadata": {},
   "outputs": [],
   "source": [
    "# Notice how cool it is that a method in Python can return more than one value\n",
    "train_X, val_X, train_y, val_y = train_test_split(X, y,random_state = 1)\n",
    "\n",
    "# For example, let's look at our validation labels\n",
    "val_y"
   ]
  },
  {
   "cell_type": "markdown",
   "metadata": {},
   "source": [
    "## Machine Learning is a Go\n",
    "\n",
    "Now, let's try to do some model training using a simple machine learning algorithm known as \"decision trees.\"\n",
    "\n",
    "### Train the Model\n",
    "\n",
    "We'll use a simple \"classifier\" since our goal is just to predict the bare yes/no - did the passenger die?"
   ]
  },
  {
   "cell_type": "code",
   "execution_count": null,
   "metadata": {},
   "outputs": [],
   "source": [
    "# Specify Model\n",
    "ourModel =  DecisionTreeClassifier(random_state=1)\n",
    "\n",
    "# Fit Model - the .fit method tries to fit the model to the training data set (X) against the labels (y)\n",
    "ourModel.fit(train_X, train_y)\n"
   ]
  },
  {
   "cell_type": "markdown",
   "metadata": {},
   "source": [
    "### Validate the Model\n",
    "\n",
    "Now, let's validate our new model against test data"
   ]
  },
  {
   "cell_type": "code",
   "execution_count": null,
   "metadata": {},
   "outputs": [],
   "source": [
    "survivalPredictions = ourModel.predict(val_X)\n",
    "\n",
    "accuracyScore = accuracy_score(val_y,survivalPredictions)\n",
    "\n",
    "print(f\"Validation Accuracy: {accuracyScore}\")"
   ]
  },
  {
   "cell_type": "markdown",
   "metadata": {},
   "source": [
    "Wow, 62.5% accuracy. Not bad, right? Better than a coin flip (50%) but still not as good as including sex which, as we've seen, seems to be an important determiner of survival."
   ]
  },
  {
   "cell_type": "code",
   "execution_count": null,
   "metadata": {},
   "outputs": [],
   "source": [
    "# Exercise 6: Redo with More Features\n",
    "\n",
    "# a. For this exercise, re-run the split, training, and validation \n",
    "# but before splitting, start with a dataset that also includes our two sex columns\n",
    "\n",
    "# b. Is your accuracy better with more features?\n",
    "# answer here"
   ]
  },
  {
   "cell_type": "code",
   "execution_count": null,
   "metadata": {},
   "outputs": [],
   "source": [
    "# Exercise 7: Redo with Different Method\n",
    "\n",
    "# a. For this exercise, re-run the training, and validation\n",
    "# but use a Random Forest Classifier with these settings\n",
    "# ourModel = RandomForestClassifier(n_estimators=100, max_depth=5, random_state=1)\n",
    "\n",
    "# b. Is your accuracy better with a better technique?\n",
    "# answer here"
   ]
  },
  {
   "cell_type": "code",
   "execution_count": null,
   "metadata": {},
   "outputs": [],
   "source": [
    "# Bonus: If you have time\n",
    "\n",
    "# Ba. Re-run the training, and validation\n",
    "# but use a different classifier from scikit like\n",
    "# Nearest Neighbors, Linear SVM, RBF SVM, Gaussian Process, Neural Net, AdaBoost, Naive Bayes, QDA, etc.\n",
    "# whoever gets the best accuracy wins a small prize\n",
    "\n",
    "\n",
    "# Bb. I wonder what it would look like to try this approach to compare methods\n",
    "# https://scikit-learn.org/stable/auto_examples/classification/plot_classifier_comparison.html\n",
    "# the first one who implements that test with visualizations on this dataset will receive \n",
    "# a five-dollar starbucks gift card\n"
   ]
  }
 ],
 "metadata": {
  "kernelspec": {
   "display_name": "Python 3 (ipykernel)",
   "language": "python",
   "name": "python3"
  },
  "language_info": {
   "codemirror_mode": {
    "name": "ipython",
    "version": 3
   },
   "file_extension": ".py",
   "mimetype": "text/x-python",
   "name": "python",
   "nbconvert_exporter": "python",
   "pygments_lexer": "ipython3",
   "version": "3.9.12"
  }
 },
 "nbformat": 4,
 "nbformat_minor": 1
}
