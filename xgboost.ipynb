{
 "cells": [
  {
   "cell_type": "markdown",
   "id": "baa99a60-ed33-4d61-9e8b-6ca9384aea93",
   "metadata": {},
   "source": [
    "**Name:Isha Shrestha**\n",
    "**NetID: is418**\n"
   ]
  },
  {
   "cell_type": "markdown",
   "id": "b04ee330-28e8-4f7d-9ae2-7b28a583d866",
   "metadata": {},
   "source": [
    "Here, I am using the XGBClassifier with the best parameters, and then finding the most important features, giving around 80% accuracy.\n",
    "Then, I am using a pipeline to transform the data, and retrain the model on the transformed data, again finding the most important features. It is giving 75% accuracy, which is actually lower. So, kind of surprising."
   ]
  },
  {
   "cell_type": "code",
   "execution_count": 1,
   "id": "b376a808-74af-4481-9f65-ca2cd218f2bf",
   "metadata": {},
   "outputs": [],
   "source": [
    "import pandas as pd\n",
    "import numpy as np"
   ]
  },
  {
   "cell_type": "code",
   "execution_count": 2,
   "id": "a238c698-b13e-4b84-a6c5-d8a4cd59868d",
   "metadata": {},
   "outputs": [],
   "source": [
    "passengers = pd.read_csv(\"titanic.csv\",dtype={'Age': np.float64})"
   ]
  },
  {
   "cell_type": "code",
   "execution_count": 3,
   "id": "7f9f4a34-a20b-40be-b431-d7f49a074247",
   "metadata": {},
   "outputs": [],
   "source": [
    "passengers = passengers.drop(labels=1309, axis = 0)"
   ]
  },
  {
   "cell_type": "code",
   "execution_count": 4,
   "id": "b13ba3cd-41a8-4c45-bc81-a9e79bf26a03",
   "metadata": {},
   "outputs": [
    {
     "data": {
      "text/plain": [
       "pclass          0\n",
       "survived        0\n",
       "name            0\n",
       "sex             0\n",
       "age           263\n",
       "sibsp           0\n",
       "parch           0\n",
       "ticket          0\n",
       "fare            1\n",
       "cabin        1014\n",
       "embarked        2\n",
       "boat          823\n",
       "body         1188\n",
       "home.dest     564\n",
       "dtype: int64"
      ]
     },
     "execution_count": 4,
     "metadata": {},
     "output_type": "execute_result"
    }
   ],
   "source": [
    "passengers.isnull().sum()"
   ]
  },
  {
   "cell_type": "code",
   "execution_count": 5,
   "id": "cef01b4a-b4d4-4d4c-8dc5-8b189cd38523",
   "metadata": {},
   "outputs": [],
   "source": [
    "passengers.loc[passengers['embarked'].isnull(), 'embarked'] = 'U'"
   ]
  },
  {
   "cell_type": "code",
   "execution_count": 6,
   "id": "667d491d-6c2e-49d7-b513-b11ee5651b76",
   "metadata": {},
   "outputs": [],
   "source": [
    "passengers.loc[passengers.age.isnull(), 'age'] = passengers.age.median()"
   ]
  },
  {
   "cell_type": "code",
   "execution_count": 7,
   "id": "aaacd132-e0de-4756-8b60-2f2d8f1009b4",
   "metadata": {},
   "outputs": [],
   "source": [
    "passengers.loc[passengers['fare'].isnull(), 'fare'] = passengers.fare.median()"
   ]
  },
  {
   "cell_type": "code",
   "execution_count": 8,
   "id": "a1b88740-206f-4b69-b05f-6d5c719da3a1",
   "metadata": {},
   "outputs": [],
   "source": [
    "passengers.loc[passengers['cabin'].isnull(),'cabin']= \"Unknown\""
   ]
  },
  {
   "cell_type": "code",
   "execution_count": 9,
   "id": "ea058e4c-0732-4105-b761-2551b569528e",
   "metadata": {},
   "outputs": [],
   "source": [
    "passengers = pd.get_dummies(passengers, columns=[\"sex\"], prefix=\"sex\")"
   ]
  },
  {
   "cell_type": "code",
   "execution_count": 10,
   "id": "b07e835e-53cf-4a4a-89bf-ad1cafad7e85",
   "metadata": {},
   "outputs": [],
   "source": [
    "passengers.survived=passengers.survived.astype(int)"
   ]
  },
  {
   "cell_type": "code",
   "execution_count": 11,
   "id": "e54e9d83-a94d-4baf-bb63-e713d68818fd",
   "metadata": {},
   "outputs": [],
   "source": [
    "from sklearn.model_selection import train_test_split"
   ]
  },
  {
   "cell_type": "code",
   "execution_count": 12,
   "id": "951999be-d674-4fed-a6df-4a45d355f077",
   "metadata": {},
   "outputs": [],
   "source": [
    "y_sex_incl = passengers.survived\n",
    "analysis_features = ['pclass','age','fare', 'sex_female','sex_male','sibsp','parch']\n",
    "X_sex_incl = passengers[analysis_features]\n",
    "train_X_sex_incl, val_X_sex_incl, train_y_sex_incl, val_y_sex_incl = train_test_split(X_sex_incl, y_sex_incl,random_state = 1)\n"
   ]
  },
  {
   "cell_type": "code",
   "execution_count": 13,
   "id": "6ac78c15-2c61-4e14-8bf1-f074b1f5db87",
   "metadata": {},
   "outputs": [],
   "source": [
    "from sklearn.model_selection import GridSearchCV"
   ]
  },
  {
   "cell_type": "code",
   "execution_count": 14,
   "id": "331a8311-0373-4bc1-b751-ac3ea3d5f21b",
   "metadata": {},
   "outputs": [
    {
     "name": "stdout",
     "output_type": "stream",
     "text": [
      "Requirement already satisfied: xgboost in c:\\users\\ishas\\anaconda3\\lib\\site-packages (2.1.1)\n",
      "Requirement already satisfied: numpy in c:\\users\\ishas\\anaconda3\\lib\\site-packages (from xgboost) (1.26.4)\n",
      "Requirement already satisfied: scipy in c:\\users\\ishas\\anaconda3\\lib\\site-packages (from xgboost) (1.13.1)\n"
     ]
    }
   ],
   "source": [
    "!pip install xgboost"
   ]
  },
  {
   "cell_type": "code",
   "execution_count": 15,
   "id": "65b4760f-cb48-4449-958a-95bfd4abd577",
   "metadata": {},
   "outputs": [],
   "source": [
    "from xgboost import XGBClassifier"
   ]
  },
  {
   "cell_type": "code",
   "execution_count": 16,
   "id": "196be760-4237-4642-ae81-155005c9e70f",
   "metadata": {},
   "outputs": [],
   "source": [
    "from sklearn.pipeline import Pipeline\n",
    "\n",
    "from sklearn.impute import SimpleImputer\n",
    "from sklearn.preprocessing import StandardScaler, PolynomialFeatures\n",
    "from sklearn.feature_selection import SelectFromModel"
   ]
  },
  {
   "cell_type": "code",
   "execution_count": 29,
   "id": "ef65f08d-9419-4f02-9959-c3ec6bc033a0",
   "metadata": {},
   "outputs": [],
   "source": [
    "import matplotlib.pyplot as plt"
   ]
  },
  {
   "cell_type": "code",
   "execution_count": 17,
   "id": "b1996493-4bb4-43e5-a389-fc1e14a307ce",
   "metadata": {},
   "outputs": [
    {
     "name": "stdout",
     "output_type": "stream",
     "text": [
      "{'colsample_bytree': 0.7, 'learning_rate': 0.3, 'max_depth': 7, 'n_estimators': 9}\n"
     ]
    }
   ],
   "source": [
    "#Defining the parameters to search within\n",
    "param_grid = {\n",
    "'n_estimators': range(6, 10),\n",
    "'max_depth': range(3, 8),\n",
    "'learning_rate': [.2, .3, .4],\n",
    "'colsample_bytree': [.7, .8, .9, 1]\n",
    "}\n",
    "#Specifying our classifier\n",
    "xgb2 = XGBClassifier()\n",
    "#Searching for the best parameters\n",
    "g_search = GridSearchCV(estimator = xgb2, param_grid = param_grid,\n",
    "cv = 3, n_jobs = 1, verbose = 0, return_train_score=True)\n",
    "#Fitting the model using best parameters found\n",
    "g_search.fit(train_X_sex_incl, train_y_sex_incl)\n",
    "#Printing the best parameters found\n",
    "print(g_search.best_params_)"
   ]
  },
  {
   "cell_type": "code",
   "execution_count": 31,
   "id": "6c0bb0de-4667-41ae-9db9-4817fa62325c",
   "metadata": {},
   "outputs": [
    {
     "data": {
      "image/png": "[encoded data removed]",
      "text/plain": [
       "<Figure size 640x480 with 1 Axes>"
      ]
     },
     "metadata": {},
     "output_type": "display_data"
    }
   ],
   "source": [
    "from xgboost import plot_importance\n",
    "best_xgb = g_search.best_estimator_\n",
    "booster = best_xgb.get_booster()\n",
    "booster.feature_names = train_X_sex_incl.columns.tolist()  # Set the actual feature names\n",
    "\n",
    "# Plot the feature importances with actual feature names\n",
    "plot_importance(booster, importance_type='weight', title=\"Feature Importance\", xlabel=\"F Score\")\n",
    "plt.show()"
   ]
  },
  {
   "cell_type": "code",
   "execution_count": 43,
   "id": "f8597cc4-b5a9-4552-9a14-0066ec90798c",
   "metadata": {},
   "outputs": [
    {
     "data": {
      "text/plain": [
       "0.801829268292683"
      ]
     },
     "execution_count": 43,
     "metadata": {},
     "output_type": "execute_result"
    }
   ],
   "source": [
    "g_search.score(val_X_sex_incl,val_y_sex_incl)"
   ]
  },
  {
   "cell_type": "code",
   "execution_count": 33,
   "id": "d9323b3a-ba3b-4827-abca-62f7a38ca011",
   "metadata": {},
   "outputs": [],
   "source": [
    "\n",
    "pipeline = Pipeline(steps=[\n",
    "    ('imputer', SimpleImputer(strategy='median')),\n",
    "    ('scaler', StandardScaler()),\n",
    "    ('poly', PolynomialFeatures(degree=2, interaction_only=False, include_bias=False)),\n",
    "    ('feature_selection', SelectFromModel(XGBClassifier(), threshold=\"mean\")),\n",
    "])\n",
    "\n",
    "\n"
   ]
  },
  {
   "cell_type": "code",
   "execution_count": 59,
   "id": "3b2b9622-4fda-4d6d-b3ea-226366d153ff",
   "metadata": {},
   "outputs": [
    {
     "name": "stderr",
     "output_type": "stream",
     "text": [
      "C:\\Users\\ishas\\anaconda3\\Lib\\site-packages\\sklearn\\base.py:486: UserWarning: X has feature names, but PolynomialFeatures was fitted without feature names\n",
      "  warnings.warn(\n"
     ]
    },
    {
     "data": {
      "image/png": "[encoded data removed]",
      "text/plain": [
       "<Figure size 1000x600 with 1 Axes>"
      ]
     },
     "metadata": {},
     "output_type": "display_data"
    }
   ],
   "source": [
    "import numpy as np\n",
    "import matplotlib.pyplot as plt\n",
    "import pandas as pd\n",
    "\n",
    "# Step 1: Fit the entire pipeline on the training data\n",
    "pipeline.fit(train_X_sex_incl, train_y_sex_incl)\n",
    "\n",
    "# Step 2: Extract the transformed data after the entire pipeline (up to SelectFromModel)\n",
    "transformed_data = pipeline.named_steps['poly'].transform(train_X_sex_incl)\n",
    "\n",
    "# Step 3: Apply SelectFromModel to the transformed data\n",
    "selected_train_X = pipeline.named_steps['feature_selection'].transform(transformed_data)\n",
    "\n",
    "# Step 4: Retrain the XGBoost model on the selected features\n",
    "xgb_model = XGBClassifier()\n",
    "xgb_model.fit(selected_train_X, train_y_sex_incl)\n",
    "\n",
    "# Step 5: Get feature importances for the selected features\n",
    "feature_importances = xgb_model.feature_importances_\n",
    "\n",
    "# Step 6: Extract the feature names after PolynomialFeatures transformation\n",
    "poly_feature_names = pipeline.named_steps['poly'].get_feature_names_out(train_X_sex_incl.columns)\n",
    "\n",
    "# Step 7: Get the names of the selected features based on the mask\n",
    "selected_features_mask = pipeline.named_steps['feature_selection'].get_support()\n",
    "selected_feature_names = np.array(poly_feature_names)[selected_features_mask]\n",
    "\n",
    "# Step 8: Ensure the number of selected feature names matches the number of importances\n",
    "if len(selected_feature_names) == len(feature_importances):\n",
    "    # Step 9: Create a DataFrame to store feature names and their importances\n",
    "    feature_importances_df = pd.DataFrame({\n",
    "        'Feature': selected_feature_names,\n",
    "        'Importance': feature_importances\n",
    "    }).sort_values(by='Importance', ascending=False)\n",
    "\n",
    "    # Step 10: Plot the feature importances\n",
    "    plt.figure(figsize=(10, 6))\n",
    "    plt.barh(feature_importances_df['Feature'], feature_importances_df['Importance'])\n",
    "    plt.xlabel('Importance')\n",
    "    plt.title('Feature Importances after PolynomialFeatures and SelectFromModel')\n",
    "    plt.gca().invert_yaxis()  # Invert y-axis to have the most important feature at the top\n",
    "    plt.show()\n",
    "\n",
    "else:\n",
    "    print(f\"Feature count mismatch: {len(selected_feature_names)} selected features vs. {len(feature_importances)} feature importances.\")\n"
   ]
  },
  {
   "cell_type": "code",
   "execution_count": 63,
   "id": "5dade316-1357-4e07-919e-3cbb8d3f26df",
   "metadata": {},
   "outputs": [],
   "source": [
    "from sklearn.metrics import accuracy_score"
   ]
  },
  {
   "cell_type": "code",
   "execution_count": 65,
   "id": "2004c508-e09b-4dcb-adbf-2e5b231318f3",
   "metadata": {},
   "outputs": [
    {
     "name": "stdout",
     "output_type": "stream",
     "text": [
      "Accuracy with the three important features: 0.7563\n"
     ]
    }
   ],
   "source": [
    "# Step 1: Extract the important features from the original dataset\n",
    "important_features = ['pclass', 'sex_female', 'sibsp']\n",
    "train_X_important = train_X_sex_incl[important_features]\n",
    "val_X_important = val_X_sex_incl[important_features]\n",
    "\n",
    "# Step 2: Split the original training data into training and validation sets (if not done already)\n",
    "train_X_imp, val_X_imp, train_y_imp, val_y_imp = train_test_split(train_X_important, train_y_sex_incl, test_size=0.2, random_state=42)\n",
    "\n",
    "# Step 3: Train a new XGBoost model on the reduced dataset\n",
    "xgb_model = XGBClassifier()\n",
    "xgb_model.fit(train_X_imp, train_y_imp)\n",
    "\n",
    "# Step 4: Make predictions on the validation set\n",
    "val_y_pred = xgb_model.predict(val_X_imp)\n",
    "\n",
    "# Step 5: Calculate and print the accuracy\n",
    "accuracy = accuracy_score(val_y_imp, val_y_pred)\n",
    "print(f\"Accuracy with the three important features: {accuracy:.4f}\")\n",
    "\n"
   ]
  },
  {
   "cell_type": "code",
   "execution_count": null,
   "id": "a07d742d-a6fb-4ca6-a1a2-77780a7b34be",
   "metadata": {},
   "outputs": [],
   "source": []
  },
  {
   "cell_type": "code",
   "execution_count": null,
   "id": "4d160cd5-662b-4577-a9ce-c736f8e0c193",
   "metadata": {},
   "outputs": [],
   "source": []
  },
  {
   "cell_type": "code",
   "execution_count": null,
   "id": "f6e4d917-d0b2-4251-b2cb-18bd9ca99473",
   "metadata": {},
   "outputs": [],
   "source": []
  },
  {
   "cell_type": "code",
   "execution_count": null,
   "id": "46be6056-b775-4379-8d8d-03c287718ef0",
   "metadata": {},
   "outputs": [],
   "source": []
  }
 ],
 "metadata": {
  "kernelspec": {
   "display_name": "Python 3 (ipykernel)",
   "language": "python",
   "name": "python3"
  },
  "language_info": {
   "codemirror_mode": {
    "name": "ipython",
    "version": 3
   },
   "file_extension": ".py",
   "mimetype": "text/x-python",
   "name": "python",
   "nbconvert_exporter": "python",
   "pygments_lexer": "ipython3",
   "version": "3.12.4"
  }
 },
 "nbformat": 4,
 "nbformat_minor": 5
}
